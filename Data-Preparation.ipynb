{
 "cells": [
  {
   "cell_type": "code",
   "execution_count": null,
   "metadata": {},
   "outputs": [],
   "source": [
    "# !pip install newspaper3k"
   ]
  },
  {
   "cell_type": "code",
   "execution_count": null,
   "metadata": {},
   "outputs": [],
   "source": [
    "import pandas as pd\n",
    "import numpy as np\n",
    "import newspaper"
   ]
  },
  {
   "cell_type": "markdown",
   "metadata": {},
   "source": [
    "# Step 1: Scrape for articles not released in this repository.\n",
    "\n",
    "The content of some articles were released with the data (only urls that are not reachable or articles that drastically changed from the version used for the publication).\n",
    "\n",
    "Other articles need to be scraped, for copyright reasons. We provide a url to the Internet Archive's Wayback Machine (when available) with content similar to the content used for annotation."
   ]
  },
  {
   "cell_type": "code",
   "execution_count": null,
   "metadata": {},
   "outputs": [],
   "source": [
    "content = pd.read_csv('data/assets.csv', index_col='id')"
   ]
  },
  {
   "cell_type": "code",
   "execution_count": null,
   "metadata": {},
   "outputs": [],
   "source": [
    "for idx, row in content[content.content.isnull()].iterrows():\n",
    "    url = row.wbm_url if row.wbm_url is not np.nan else row.document_identifier\n",
    "    print('Collecting', url)\n",
    "    a = newspaper.Article(url)\n",
    "    a.download()\n",
    "    if a.download_state == 2:\n",
    "        a.parse()\n",
    "        content.loc[idx, 'content'] = a.text"
   ]
  },
  {
   "cell_type": "code",
   "execution_count": null,
   "metadata": {},
   "outputs": [],
   "source": [
    "empty_articles = content.content.isnull().sum()\n",
    "if empty_articles > 0:\n",
    "    print(empty_articles, 'article(s) are still empty. Run again the previous cell, or contact the authors.')"
   ]
  },
  {
   "cell_type": "code",
   "execution_count": null,
   "metadata": {},
   "outputs": [],
   "source": [
    "content.to_csv('data/assets_scraped.csv', encoding='utf8')"
   ]
  }
 ],
 "metadata": {
  "kernelspec": {
   "display_name": "Python 3",
   "language": "python",
   "name": "python3"
  },
  "language_info": {
   "codemirror_mode": {
    "name": "ipython",
    "version": 3
   },
   "file_extension": ".py",
   "mimetype": "text/x-python",
   "name": "python",
   "nbconvert_exporter": "python",
   "pygments_lexer": "ipython3",
   "version": "3.8.5"
  }
 },
 "nbformat": 4,
 "nbformat_minor": 4
}
