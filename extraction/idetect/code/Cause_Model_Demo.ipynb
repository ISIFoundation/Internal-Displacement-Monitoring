{
  "nbformat": 4,
  "nbformat_minor": 0,
  "metadata": {
    "colab": {
      "name": "Cause_Model_Demo.ipynb",
      "provenance": []
    },
    "kernelspec": {
      "name": "python3",
      "display_name": "Python 3"
    },
    "language_info": {
      "name": "python"
    }
  },
  "cells": [
    {
      "cell_type": "code",
      "metadata": {
        "colab": {
          "base_uri": "https://localhost:8080/"
        },
        "id": "Fe9Zrzr_j1jm",
        "outputId": "5070feee-16bf-4114-c708-519e1e33a147"
      },
      "source": [
        "from google.colab import drive\n",
        "\n",
        "drive.mount('/content/drive')\n",
        "import pandas as pd\n",
        "data = data[data['taskID'] == \"CAUSE\"]\n",
        "from joblib import dump, load\n",
        "from sklearn.naive_bayes import MultinomialNB\n",
        "import os\n",
        "my_path = '/content/drive/MyDrive/NLP_research/idetect-master/source/python/'\n",
        "os.chdir(my_path)\n",
        "from idetect.cause_model import Cause_Classification\n",
        "\n",
        "test = data.iloc[0].text\n",
        "Cause_Classification(data, MultinomialNB(alpha= 0.5)).predict_proba(test)"
      ],
      "execution_count": 5,
      "outputs": [
        {
          "output_type": "stream",
          "name": "stdout",
          "text": [
            "Drive already mounted at /content/drive; to attempt to forcibly remount, call drive.mount(\"/content/drive\", force_remount=True).\n",
            "[nltk_data] Downloading package stopwords to /root/nltk_data...\n",
            "[nltk_data]   Unzipping corpora/stopwords.zip.\n",
            "[nltk_data] Downloading package wordnet to /root/nltk_data...\n",
            "[nltk_data]   Unzipping corpora/wordnet.zip.\n"
          ]
        },
        {
          "output_type": "execute_result",
          "data": {
            "text/plain": [
              "array([0.88229286, 0.11770714])"
            ]
          },
          "metadata": {},
          "execution_count": 5
        }
      ]
    }
  ]
}