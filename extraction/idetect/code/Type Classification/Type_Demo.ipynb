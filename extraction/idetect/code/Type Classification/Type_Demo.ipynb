{
  "nbformat": 4,
  "nbformat_minor": 0,
  "metadata": {
    "colab": {
      "name": "Type_Demo.ipynb",
      "provenance": []
    },
    "kernelspec": {
      "name": "python3",
      "display_name": "Python 3"
    },
    "language_info": {
      "name": "python"
    }
  },
  "cells": [
    {
      "cell_type": "code",
      "metadata": {
        "colab": {
          "base_uri": "https://localhost:8080/"
        },
        "id": "jClE_VtMX1TU",
        "outputId": "9992b67d-d89a-46a8-c5e8-260b24c55c87"
      },
      "source": [
        "from sklearn.linear_model import LogisticRegression\n",
        "import pandas as pd\n",
        "from collections import Counter\n",
        "from google.colab import drive\n",
        "\n",
        "drive.mount('/content/drive')\n",
        "import os\n",
        "my_path = '/content/drive/MyDrive/NLP_research/idetect-master/source/python/'\n",
        "os.chdir(my_path)\n",
        "from idetect.Type_model import Type_Classification\n",
        "from idetect.Type_model_predict import Type_Classification_test\n",
        "\n",
        "### Read the Data\n",
        "complete_fr_200 = pd.read_csv('/content/drive/My Drive/NLP_research/DATA/complete_fr_200_ok.csv')\n",
        "assets_fr = pd.read_csv('/content/drive/My Drive/NLP_research/DATA/assets_fr.csv')\n",
        "relevance_fr_200 = pd.read_csv('/content/drive/My Drive/NLP_research/DATA/relevance_fr_200.csv')\n",
        "\n",
        "assets_es = pd.read_csv('/content/drive/My Drive/NLP_research/DATA/assets_es.csv')\n",
        "relevance_es_200 = pd.read_csv('/content/drive/My Drive/NLP_research/DATA/relevance_es_200.csv')\n",
        "\n",
        "relevance_en = pd.read_csv('/content/drive/My Drive/NLP_research/DATA/cleaned_relevant_data.csv')\n",
        "\n",
        "fr_type_data = relevance_fr_200.merge(assets_fr, how = 'inner', on = 'assetID')\n",
        "relevance_es_data = relevance_es_200.merge(assets_es, how = 'inner', on = 'assetID')\n",
        "\n",
        "test = fr_type_data.content[0]\n"
      ],
      "execution_count": 4,
      "outputs": [
        {
          "output_type": "stream",
          "name": "stdout",
          "text": [
            "Drive already mounted at /content/drive; to attempt to forcibly remount, call drive.mount(\"/content/drive\", force_remount=True).\n"
          ]
        }
      ]
    },
    {
      "cell_type": "markdown",
      "metadata": {
        "id": "T1b9vG4qLUKa"
      },
      "source": [
        "### Input Data"
      ]
    },
    {
      "cell_type": "code",
      "metadata": {
        "colab": {
          "base_uri": "https://localhost:8080/",
          "height": 205
        },
        "id": "HOicmcEqLmPr",
        "outputId": "eebab3b2-6fb6-4ade-b831-161aab2073d9"
      },
      "source": [
        "### Training DataFrame\n",
        "fr_type_data.head(5)"
      ],
      "execution_count": 11,
      "outputs": [
        {
          "output_type": "execute_result",
          "data": {
            "text/html": [
              "<div>\n",
              "<style scoped>\n",
              "    .dataframe tbody tr th:only-of-type {\n",
              "        vertical-align: middle;\n",
              "    }\n",
              "\n",
              "    .dataframe tbody tr th {\n",
              "        vertical-align: top;\n",
              "    }\n",
              "\n",
              "    .dataframe thead th {\n",
              "        text-align: right;\n",
              "    }\n",
              "</style>\n",
              "<table border=\"1\" class=\"dataframe\">\n",
              "  <thead>\n",
              "    <tr style=\"text-align: right;\">\n",
              "      <th></th>\n",
              "      <th>assetID</th>\n",
              "      <th>labeler</th>\n",
              "      <th>relevance</th>\n",
              "      <th>content</th>\n",
              "    </tr>\n",
              "  </thead>\n",
              "  <tbody>\n",
              "    <tr>\n",
              "      <th>0</th>\n",
              "      <td>3025659</td>\n",
              "      <td>Alvaro Sardiza</td>\n",
              "      <td>NOT_RELEVANT</td>\n",
              "      <td>Douze soldats nigériens ont été tués et huit a...</td>\n",
              "    </tr>\n",
              "    <tr>\n",
              "      <th>1</th>\n",
              "      <td>3025812</td>\n",
              "      <td>Alvaro Sardiza</td>\n",
              "      <td>NOT_RELEVANT</td>\n",
              "      <td>L’Airbus A330-200 de Virgin Atlantic qui devai...</td>\n",
              "    </tr>\n",
              "    <tr>\n",
              "      <th>2</th>\n",
              "      <td>3025785</td>\n",
              "      <td>Alvaro Sardiza</td>\n",
              "      <td>NOT_RELEVANT</td>\n",
              "      <td>Les investigations se poursuivent après l’ince...</td>\n",
              "    </tr>\n",
              "    <tr>\n",
              "      <th>3</th>\n",
              "      <td>3025651</td>\n",
              "      <td>Alvaro Sardiza</td>\n",
              "      <td>RELEVANT</td>\n",
              "      <td>Les habitants de plusieurs centaines de maison...</td>\n",
              "    </tr>\n",
              "    <tr>\n",
              "      <th>4</th>\n",
              "      <td>3025483</td>\n",
              "      <td>Alvaro Sardiza</td>\n",
              "      <td>NOT_RELEVANT</td>\n",
              "      <td>Ils ont été des enfants placés mais peuvent de...</td>\n",
              "    </tr>\n",
              "  </tbody>\n",
              "</table>\n",
              "</div>"
            ],
            "text/plain": [
              "   assetID  ...                                            content\n",
              "0  3025659  ...  Douze soldats nigériens ont été tués et huit a...\n",
              "1  3025812  ...  L’Airbus A330-200 de Virgin Atlantic qui devai...\n",
              "2  3025785  ...  Les investigations se poursuivent après l’ince...\n",
              "3  3025651  ...  Les habitants de plusieurs centaines de maison...\n",
              "4  3025483  ...  Ils ont été des enfants placés mais peuvent de...\n",
              "\n",
              "[5 rows x 4 columns]"
            ]
          },
          "metadata": {},
          "execution_count": 11
        }
      ]
    },
    {
      "cell_type": "code",
      "metadata": {
        "colab": {
          "base_uri": "https://localhost:8080/",
          "height": 122
        },
        "id": "1W6JFm1wLYbL",
        "outputId": "fad493f9-3abc-4cde-9924-8d1dc37e487c"
      },
      "source": [
        "### Test String\n",
        "test"
      ],
      "execution_count": 7,
      "outputs": [
        {
          "output_type": "execute_result",
          "data": {
            "application/vnd.google.colaboratory.intrinsic+json": {
              "type": "string"
            },
            "text/plain": [
              "'Douze soldats nigériens ont été tués et huit autres blessés dans une attaque attribuée à Boko Haram menée dans la nuit de mardi à mercredi contre leur camp de Bilabrim, à l\\'est de N\\'Guigmi, dans la région de Diffa (sud-est), proche de la frontière entre le Niger et le Tchad, a annoncé un communiqué du gouvernement nigérien dans le quotidien \"Le Sahel\" de ce jeudi.\\n\\n\"Dans la nuit du mardi 29 au mercredi 30 octobre 2019, la position militaire de Bilabrim (région de Diffa) a été attaquée par des éléments armés encore non identifiés appartenant très probablement au groupe terroriste Boko Haram\", a indiqué le gouvernement, ajoutant que \"côté ami, douze militaires ont été tués et huit autres blessés\".\\n\\nPlusieurs morts et blessés ont été enregistrés dans les rangs des assaillants a précisé la même source, annonçant que \"des opérations de ratissage et de poursuite auxquelles participent nos partenaires de la Force multinationale mixte (FMM) ont été engagées pour rattraper et neutraliser les éléments ayant perpétré l\\'attaque, qui se sont repliés en direction du Lac Tchad\".\\n\\nLes localités de cette région du Niger subissent depuis plus de quatre ans les attaques meurtrières de Boko Haram à partir de ses positions au Nigeria. Elles ont fait des centaines de victimes civiles et militaires ainsi que plusieurs dizaines de milliers de déplacés, tant au Niger qu\\'au Nigeria.\\n\\nAprès une relative accalmie consécutive aux opérations d\\'envergure engagées depuis près de deux ans par la FMM, composée de troupes du Tchad, du Niger, du Cameroun et du Nigeria, on assiste ces derniers temps à une multiplication des actions terroristes dans la zone.'"
            ]
          },
          "metadata": {},
          "execution_count": 7
        }
      ]
    },
    {
      "cell_type": "markdown",
      "metadata": {
        "id": "p1xzG_tALDkY"
      },
      "source": [
        "### Train Predict"
      ]
    },
    {
      "cell_type": "code",
      "metadata": {
        "colab": {
          "base_uri": "https://localhost:8080/"
        },
        "id": "wmMtjPV6K9Pj",
        "outputId": "9cfd9ad2-5862-4251-f56d-12795bed636d"
      },
      "source": [
        "Type_Classification(fr_type_data, LogisticRegression(penalty='l2', C=0.1, class_weight='balanced', solver='liblinear'), 'french').predict_proba(test)"
      ],
      "execution_count": 5,
      "outputs": [
        {
          "output_type": "execute_result",
          "data": {
            "text/plain": [
              "array([0.50976341, 0.49023659])"
            ]
          },
          "metadata": {},
          "execution_count": 5
        }
      ]
    },
    {
      "cell_type": "markdown",
      "metadata": {
        "id": "GkWGnmSoLfij"
      },
      "source": [
        "### Test Predict\n",
        "\n",
        "\n",
        "- The input is \n",
        "\n",
        "    - @ embedding_model (string): the path of embedding model\n",
        "    - @ classification_model (string): the path of classification model\n",
        "    - @ language (string): \"french\" / \"english\" / \"spanish\"\n",
        "\n",
        "- Predict the Probability of the type of the document\n",
        "\n",
        "- Predict the label of the type of the document\n",
        "\n"
      ]
    },
    {
      "cell_type": "code",
      "metadata": {
        "colab": {
          "base_uri": "https://localhost:8080/"
        },
        "id": "Kh51xLFJLg7L",
        "outputId": "ed73b544-1a21-474e-b718-adf6762b389c"
      },
      "source": [
        "### Get the directory path of fitted model\n",
        "\n",
        "fr_type_embedding_model = my_path+ 'type_embedding_model_fr.joblib'\n",
        "fr_type_classification_model = my_path+ 'type_classification_model_fr.joblib'\n",
        "\n",
        "Type_Classification_test(fr_type_embedding_model, fr_type_classification_model, \"french\").predict_proba(test)\n"
      ],
      "execution_count": 10,
      "outputs": [
        {
          "output_type": "execute_result",
          "data": {
            "text/plain": [
              "array([0.50976341, 0.49023659])"
            ]
          },
          "metadata": {},
          "execution_count": 10
        }
      ]
    },
    {
      "cell_type": "code",
      "metadata": {
        "colab": {
          "base_uri": "https://localhost:8080/"
        },
        "id": "kJfk5rHoOYyi",
        "outputId": "30050bac-39f9-4846-cd90-b6dd4d522c04"
      },
      "source": [
        "Type_Classification_test(fr_type_embedding_model, fr_type_classification_model, \"french\").predict(test)\n"
      ],
      "execution_count": 12,
      "outputs": [
        {
          "output_type": "execute_result",
          "data": {
            "text/plain": [
              "0"
            ]
          },
          "metadata": {},
          "execution_count": 12
        }
      ]
    },
    {
      "cell_type": "code",
      "metadata": {
        "id": "_J1lWafXO2qi"
      },
      "source": [
        ""
      ],
      "execution_count": null,
      "outputs": []
    }
  ]
}