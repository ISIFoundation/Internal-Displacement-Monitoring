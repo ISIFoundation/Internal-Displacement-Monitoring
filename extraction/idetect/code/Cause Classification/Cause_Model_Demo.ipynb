{
  "nbformat": 4,
  "nbformat_minor": 0,
  "metadata": {
    "colab": {
      "name": "Cause_Model_Demo.ipynb",
      "provenance": []
    },
    "kernelspec": {
      "name": "python3",
      "display_name": "Python 3"
    },
    "language_info": {
      "name": "python"
    }
  },
  "cells": [
    {
      "cell_type": "code",
      "metadata": {
        "colab": {
          "base_uri": "https://localhost:8080/"
        },
        "id": "Fe9Zrzr_j1jm",
        "outputId": "7c6f3da0-fa34-4b4f-ef8d-1e844fa361b3"
      },
      "source": [
        "from google.colab import drive\n",
        "\n",
        "drive.mount('/content/drive')\n",
        "import pandas as pd\n",
        "data = pd.read_csv('/content/drive/My Drive/NLP_research/complete_en_200.csv')\n",
        "data = data[data['taskID'] == \"CAUSE\"]\n",
        "from joblib import dump, load\n",
        "from sklearn.naive_bayes import MultinomialNB\n",
        "import os\n",
        "my_path = '/content/drive/MyDrive/NLP_research/idetect-master/source/python/'\n",
        "os.chdir(my_path)\n",
        "from idetect.cause_model import Cause_Classification\n",
        "\n",
        "test = data.iloc[0].text\n"
      ],
      "execution_count": 1,
      "outputs": [
        {
          "output_type": "stream",
          "name": "stdout",
          "text": [
            "Drive already mounted at /content/drive; to attempt to forcibly remount, call drive.mount(\"/content/drive\", force_remount=True).\n",
            "[nltk_data] Downloading package stopwords to /root/nltk_data...\n",
            "[nltk_data]   Package stopwords is already up-to-date!\n",
            "[nltk_data] Downloading package wordnet to /root/nltk_data...\n",
            "[nltk_data]   Package wordnet is already up-to-date!\n"
          ]
        }
      ]
    },
    {
      "cell_type": "markdown",
      "metadata": {
        "id": "eMqg4LwzPWWO"
      },
      "source": [
        "### Input Data"
      ]
    },
    {
      "cell_type": "code",
      "metadata": {
        "colab": {
          "base_uri": "https://localhost:8080/",
          "height": 205
        },
        "id": "JkIy7I2pPVlc",
        "outputId": "42f74c2f-35f1-479b-97f6-5b6b40a8f5d5"
      },
      "source": [
        "data.head(5)"
      ],
      "execution_count": 2,
      "outputs": [
        {
          "output_type": "execute_result",
          "data": {
            "text/html": [
              "<div>\n",
              "<style scoped>\n",
              "    .dataframe tbody tr th:only-of-type {\n",
              "        vertical-align: middle;\n",
              "    }\n",
              "\n",
              "    .dataframe tbody tr th {\n",
              "        vertical-align: top;\n",
              "    }\n",
              "\n",
              "    .dataframe thead th {\n",
              "        text-align: right;\n",
              "    }\n",
              "</style>\n",
              "<table border=\"1\" class=\"dataframe\">\n",
              "  <thead>\n",
              "    <tr style=\"text-align: right;\">\n",
              "      <th></th>\n",
              "      <th>Unnamed: 0</th>\n",
              "      <th>id</th>\n",
              "      <th>text</th>\n",
              "      <th>published</th>\n",
              "      <th>labeler</th>\n",
              "      <th>taskID</th>\n",
              "      <th>value</th>\n",
              "      <th>offset_from</th>\n",
              "      <th>offset_to</th>\n",
              "      <th>content</th>\n",
              "    </tr>\n",
              "  </thead>\n",
              "  <tbody>\n",
              "    <tr>\n",
              "      <th>4</th>\n",
              "      <td>4</td>\n",
              "      <td>EN2652359</td>\n",
              "      <td>SITUATION\\n\\n• More than 13 million people in ...</td>\n",
              "      <td>(2019, 6, 24, 'MON')</td>\n",
              "      <td>Fabio Poletto</td>\n",
              "      <td>CAUSE</td>\n",
              "      <td>OTHER_CAUSE</td>\n",
              "      <td>815.0</td>\n",
              "      <td>823.0</td>\n",
              "      <td>expelled</td>\n",
              "    </tr>\n",
              "    <tr>\n",
              "      <th>5</th>\n",
              "      <td>5</td>\n",
              "      <td>EN2652359</td>\n",
              "      <td>SITUATION\\n\\n• More than 13 million people in ...</td>\n",
              "      <td>(2019, 6, 24, 'MON')</td>\n",
              "      <td>Fabio Poletto</td>\n",
              "      <td>CAUSE</td>\n",
              "      <td>CONFLICT</td>\n",
              "      <td>890.0</td>\n",
              "      <td>913.0</td>\n",
              "      <td>Inter-communal conflict</td>\n",
              "    </tr>\n",
              "    <tr>\n",
              "      <th>18</th>\n",
              "      <td>18</td>\n",
              "      <td>EN2652359</td>\n",
              "      <td>SITUATION\\n\\n• More than 13 million people in ...</td>\n",
              "      <td>(2019, 6, 24, 'MON')</td>\n",
              "      <td>Fabio Poletto</td>\n",
              "      <td>CAUSE</td>\n",
              "      <td>OTHER_CAUSE</td>\n",
              "      <td>815.0</td>\n",
              "      <td>823.0</td>\n",
              "      <td>expelled</td>\n",
              "    </tr>\n",
              "    <tr>\n",
              "      <th>19</th>\n",
              "      <td>19</td>\n",
              "      <td>EN2652359</td>\n",
              "      <td>SITUATION\\n\\n• More than 13 million people in ...</td>\n",
              "      <td>(2019, 6, 24, 'MON')</td>\n",
              "      <td>Fabio Poletto</td>\n",
              "      <td>CAUSE</td>\n",
              "      <td>CONFLICT</td>\n",
              "      <td>890.0</td>\n",
              "      <td>913.0</td>\n",
              "      <td>Inter-communal conflict</td>\n",
              "    </tr>\n",
              "    <tr>\n",
              "      <th>30</th>\n",
              "      <td>30</td>\n",
              "      <td>EN2718256</td>\n",
              "      <td>Baghdad – Across Iraq, the instability and ins...</td>\n",
              "      <td>(2019, 8, 2, 'FRI')</td>\n",
              "      <td>Fabio Poletto</td>\n",
              "      <td>CAUSE</td>\n",
              "      <td>CONFLICT</td>\n",
              "      <td>64.0</td>\n",
              "      <td>81.0</td>\n",
              "      <td>years of conflict</td>\n",
              "    </tr>\n",
              "  </tbody>\n",
              "</table>\n",
              "</div>"
            ],
            "text/plain": [
              "    Unnamed: 0         id  ... offset_to                  content\n",
              "4            4  EN2652359  ...     823.0                 expelled\n",
              "5            5  EN2652359  ...     913.0  Inter-communal conflict\n",
              "18          18  EN2652359  ...     823.0                 expelled\n",
              "19          19  EN2652359  ...     913.0  Inter-communal conflict\n",
              "30          30  EN2718256  ...      81.0        years of conflict\n",
              "\n",
              "[5 rows x 10 columns]"
            ]
          },
          "metadata": {},
          "execution_count": 2
        }
      ]
    },
    {
      "cell_type": "code",
      "metadata": {
        "colab": {
          "base_uri": "https://localhost:8080/",
          "height": 122
        },
        "id": "oyATiLQyPZzL",
        "outputId": "bc743f26-07e3-4350-af33-1b4ce72062f9"
      },
      "source": [
        "test"
      ],
      "execution_count": 3,
      "outputs": [
        {
          "output_type": "execute_result",
          "data": {
            "application/vnd.google.colaboratory.intrinsic+json": {
              "type": "string"
            },
            "text/plain": [
              "'SITUATION\\n\\n• More than 13 million people in the DRC—representing approximately 23 percent of the country’s population—are estimated to be facing Crisis (IPC 3) or Emergency (IPC 4) levels of acute food insecurity, according to the Integrated Food Security Phase Classification (IPC). In addition, an estimated five million children in the DRC are acutely malnourished, the UN World Food Program (WFP) reports.\\n\\n• Communities in eastern DRC and the greater Kasaï region are projected to face IPC 3 and IPC 4 levels of acute food insecurity through at least September 2019, the Famine Early Warning Systems Network (FEWS NET) reports.\\n\\n• Refugees and Congolese returnees from elsewhere in the region, including more than 172,000 refugees from the Central African Republic (CAR) and nearly 500,000 Congolese nationals expelled from Angola, also remain in need of emergency food assistance.\\n\\n• Inter-communal conflict in Ituri—a province affected by the ongoing EVD outbreak—displaced more than 300,000 people between early and mid-June, increasing humanitarian needs in the region, according to the Office of the UN High Commissioner for Refugees (UNHCR).\\n\\nRESPONSE\\n\\n• USAID’s Office of Food for Peace (FFP) partners with WFP to provide emergency food assistance to internally displaced persons (IDPs), refugees, returnees, and vulnerable host communities in the DRC. With FFP support, WFP is also providing food assistance to EVDaffected communities. In addition, FFP partners with the UN Children’s Fund (UNICEF) and WFP to provide emergency nutritional support to children in eastern and central DRC.\\n\\n• FFP collaborates with USAID’s Office of U.S. Foreign Disaster Assistance to jointly support several non-governmental organizations (NGOs) to provide multi-sectoral humanitarian assistance to vulnerable people in eastern DRC.\\n\\n• Separately, FFP supports NGOs in the greater Kasaï region to provide life-saving food assistance to conflict-affected IDPs, returnees, and host communities. Additionally, FFP works with ACTED to provide emergency food assistance to refugees from CAR sheltering in northwestern DRC.\\n\\n• FFP also partners with Catholic Relief Services, Food for the Hungry, and Mercy Corps to implement multi-year food assistance and resilience activities that benefit vulnerable communities in KasaïOriental, South Kivu, and Tanganyika provinces.'"
            ]
          },
          "metadata": {},
          "execution_count": 3
        }
      ]
    },
    {
      "cell_type": "markdown",
      "metadata": {
        "id": "lkt8B895P2lO"
      },
      "source": [
        "### Train Prediction"
      ]
    },
    {
      "cell_type": "code",
      "metadata": {
        "colab": {
          "base_uri": "https://localhost:8080/"
        },
        "id": "F-ymgoaLP-hM",
        "outputId": "2325c9c1-ae2b-4af6-eded-9175e496d16b"
      },
      "source": [
        "Cause_Classification(data, MultinomialNB(alpha= 0.5)).predict_proba(test)"
      ],
      "execution_count": 4,
      "outputs": [
        {
          "output_type": "execute_result",
          "data": {
            "text/plain": [
              "array([0.88229286, 0.11770714])"
            ]
          },
          "metadata": {},
          "execution_count": 4
        }
      ]
    },
    {
      "cell_type": "markdown",
      "metadata": {
        "id": "UEhErtyuQABM"
      },
      "source": [
        "### Test Prediction\n",
        "\n",
        "- The input is \n",
        "\n",
        "    - @ embedding_model (string): the path of embedding model\n",
        "    - @ classification_model (string): the path of classification model\n",
        "\n",
        "- Predict the Probability of the cause of the displacement given an article\n",
        "\n",
        "- Predict the label of the cause of the displacement given an article\n",
        "\n"
      ]
    },
    {
      "cell_type": "code",
      "metadata": {
        "colab": {
          "base_uri": "https://localhost:8080/"
        },
        "id": "iwdmrQklP_Dp",
        "outputId": "9f50768f-285c-4247-f22b-6105df4385a2"
      },
      "source": [
        "from idetect.Cause_model_predict import Cause_Classification_test\n",
        "\n",
        "cause_embedding_model = my_path+ 'cause_embedding_model.joblib'\n",
        "cause_classification_model = my_path+ 'casue_classification_model.joblib'\n",
        "Cause_Classification_test(cause_embedding_model, cause_classification_model).predict_proba(test)"
      ],
      "execution_count": 5,
      "outputs": [
        {
          "output_type": "stream",
          "name": "stdout",
          "text": [
            "[nltk_data] Downloading package stopwords to /root/nltk_data...\n",
            "[nltk_data]   Package stopwords is already up-to-date!\n",
            "[nltk_data] Downloading package wordnet to /root/nltk_data...\n",
            "[nltk_data]   Package wordnet is already up-to-date!\n"
          ]
        },
        {
          "output_type": "execute_result",
          "data": {
            "text/plain": [
              "array([0.88229286, 0.11770714])"
            ]
          },
          "metadata": {},
          "execution_count": 5
        }
      ]
    },
    {
      "cell_type": "code",
      "metadata": {
        "colab": {
          "base_uri": "https://localhost:8080/"
        },
        "id": "9A8ou9kjRphn",
        "outputId": "6abc8913-c164-4842-c74f-a3a39077f3c4"
      },
      "source": [
        "Cause_Classification_test(cause_embedding_model, cause_classification_model).predict(test)"
      ],
      "execution_count": 6,
      "outputs": [
        {
          "output_type": "execute_result",
          "data": {
            "text/plain": [
              "0"
            ]
          },
          "metadata": {},
          "execution_count": 6
        }
      ]
    }
  ]
}