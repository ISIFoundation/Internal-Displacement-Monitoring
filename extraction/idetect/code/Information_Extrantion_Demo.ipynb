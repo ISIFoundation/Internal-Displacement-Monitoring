{
  "nbformat": 4,
  "nbformat_minor": 0,
  "metadata": {
    "colab": {
      "name": "Information Extrantion Demo.ipynb",
      "provenance": []
    },
    "kernelspec": {
      "name": "python3",
      "display_name": "Python 3"
    },
    "language_info": {
      "name": "python"
    }
  },
  "cells": [
    {
      "cell_type": "code",
      "metadata": {
        "colab": {
          "base_uri": "https://localhost:8080/"
        },
        "id": "6ZohcYjo3BVE",
        "outputId": "4930ff1e-4313-4efb-d6d4-7634e9daae44"
      },
      "source": [
        "import pandas as pd\n",
        "import os\n",
        "from google.colab import drive\n",
        "\n",
        "drive.mount('/content/drive')\n",
        "my_path = '/content/drive/MyDrive/NLP_research/idetect-master/source/python/'\n",
        "os.chdir(my_path)\n",
        "\n",
        "!pip install parsedatetime\n",
        "!pip install textacy\n",
        "!python -m spacy download en_core_web_lg\n",
        "from idetect.Interpret_new import Interpreter, Fact, Report, FactUnit, FactTerm, Information_extraction\n",
        "\n",
        "### Read one Demo article\n",
        "\n",
        "data = pd.read_csv('/content/drive/My Drive/NLP_research/complete_en_200.csv')\n",
        "data = data[data['taskID'] == \"CAUSE\"]\n",
        "test = data.iloc[0].text"
      ],
      "execution_count": 7,
      "outputs": [
        {
          "output_type": "stream",
          "name": "stdout",
          "text": [
            "Drive already mounted at /content/drive; to attempt to forcibly remount, call drive.mount(\"/content/drive\", force_remount=True).\n",
            "Collecting parsedatetime\n",
            "  Downloading parsedatetime-2.6-py3-none-any.whl (42 kB)\n",
            "\u001b[K     |████████████████████████████████| 42 kB 657 kB/s \n",
            "\u001b[?25hInstalling collected packages: parsedatetime\n",
            "Successfully installed parsedatetime-2.6\n",
            "Collecting textacy\n",
            "  Downloading textacy-0.11.0-py3-none-any.whl (200 kB)\n",
            "\u001b[K     |████████████████████████████████| 200 kB 5.3 MB/s \n",
            "\u001b[?25hCollecting jellyfish>=0.8.0\n",
            "  Downloading jellyfish-0.8.8.tar.gz (134 kB)\n",
            "\u001b[K     |████████████████████████████████| 134 kB 68.3 MB/s \n",
            "\u001b[?25hCollecting spacy>=3.0.0\n",
            "  Downloading spacy-3.1.2-cp37-cp37m-manylinux_2_17_x86_64.manylinux2014_x86_64.whl (5.8 MB)\n",
            "\u001b[K     |████████████████████████████████| 5.8 MB 57.3 MB/s \n",
            "\u001b[?25hRequirement already satisfied: scipy>=0.17.0 in /usr/local/lib/python3.7/dist-packages (from textacy) (1.4.1)\n",
            "Collecting cytoolz>=0.10.1\n",
            "  Downloading cytoolz-0.11.0-cp37-cp37m-manylinux_2_17_x86_64.manylinux2014_x86_64.whl (1.6 MB)\n",
            "\u001b[K     |████████████████████████████████| 1.6 MB 78.7 MB/s \n",
            "\u001b[?25hRequirement already satisfied: cachetools>=4.0.0 in /usr/local/lib/python3.7/dist-packages (from textacy) (4.2.2)\n",
            "Requirement already satisfied: requests>=2.10.0 in /usr/local/lib/python3.7/dist-packages (from textacy) (2.23.0)\n",
            "Requirement already satisfied: scikit-learn>=0.19.0 in /usr/local/lib/python3.7/dist-packages (from textacy) (0.22.2.post1)\n",
            "Requirement already satisfied: numpy>=1.17.0 in /usr/local/lib/python3.7/dist-packages (from textacy) (1.19.5)\n",
            "Collecting pyphen>=0.10.0\n",
            "  Downloading pyphen-0.11.0-py3-none-any.whl (2.0 MB)\n",
            "\u001b[K     |████████████████████████████████| 2.0 MB 60.8 MB/s \n",
            "\u001b[?25hRequirement already satisfied: joblib>=0.13.0 in /usr/local/lib/python3.7/dist-packages (from textacy) (1.0.1)\n",
            "Requirement already satisfied: networkx>=2.0 in /usr/local/lib/python3.7/dist-packages (from textacy) (2.6.2)\n",
            "Requirement already satisfied: tqdm>=4.19.6 in /usr/local/lib/python3.7/dist-packages (from textacy) (4.62.0)\n",
            "Requirement already satisfied: toolz>=0.8.0 in /usr/local/lib/python3.7/dist-packages (from cytoolz>=0.10.1->textacy) (0.11.1)\n",
            "Requirement already satisfied: chardet<4,>=3.0.2 in /usr/local/lib/python3.7/dist-packages (from requests>=2.10.0->textacy) (3.0.4)\n",
            "Requirement already satisfied: urllib3!=1.25.0,!=1.25.1,<1.26,>=1.21.1 in /usr/local/lib/python3.7/dist-packages (from requests>=2.10.0->textacy) (1.24.3)\n",
            "Requirement already satisfied: certifi>=2017.4.17 in /usr/local/lib/python3.7/dist-packages (from requests>=2.10.0->textacy) (2021.5.30)\n",
            "Requirement already satisfied: idna<3,>=2.5 in /usr/local/lib/python3.7/dist-packages (from requests>=2.10.0->textacy) (2.10)\n",
            "Requirement already satisfied: jinja2 in /usr/local/lib/python3.7/dist-packages (from spacy>=3.0.0->textacy) (2.11.3)\n",
            "Requirement already satisfied: preshed<3.1.0,>=3.0.2 in /usr/local/lib/python3.7/dist-packages (from spacy>=3.0.0->textacy) (3.0.5)\n",
            "Collecting srsly<3.0.0,>=2.4.1\n",
            "  Downloading srsly-2.4.1-cp37-cp37m-manylinux2014_x86_64.whl (456 kB)\n",
            "\u001b[K     |████████████████████████████████| 456 kB 69.6 MB/s \n",
            "\u001b[?25hCollecting pathy>=0.3.5\n",
            "  Downloading pathy-0.6.0-py3-none-any.whl (42 kB)\n",
            "\u001b[K     |████████████████████████████████| 42 kB 1.0 MB/s \n",
            "\u001b[?25hRequirement already satisfied: typing-extensions<4.0.0.0,>=3.7.4 in /usr/local/lib/python3.7/dist-packages (from spacy>=3.0.0->textacy) (3.7.4.3)\n",
            "Requirement already satisfied: blis<0.8.0,>=0.4.0 in /usr/local/lib/python3.7/dist-packages (from spacy>=3.0.0->textacy) (0.4.1)\n",
            "Collecting pydantic!=1.8,!=1.8.1,<1.9.0,>=1.7.4\n",
            "  Downloading pydantic-1.8.2-cp37-cp37m-manylinux2014_x86_64.whl (10.1 MB)\n",
            "\u001b[K     |████████████████████████████████| 10.1 MB 47.1 MB/s \n",
            "\u001b[?25hCollecting typer<0.4.0,>=0.3.0\n",
            "  Downloading typer-0.3.2-py3-none-any.whl (21 kB)\n",
            "Requirement already satisfied: packaging>=20.0 in /usr/local/lib/python3.7/dist-packages (from spacy>=3.0.0->textacy) (21.0)\n",
            "Collecting thinc<8.1.0,>=8.0.8\n",
            "  Downloading thinc-8.0.10-cp37-cp37m-manylinux_2_17_x86_64.manylinux2014_x86_64.whl (623 kB)\n",
            "\u001b[K     |████████████████████████████████| 623 kB 75.5 MB/s \n",
            "\u001b[?25hCollecting catalogue<2.1.0,>=2.0.4\n",
            "  Downloading catalogue-2.0.6-py3-none-any.whl (17 kB)\n",
            "Collecting spacy-legacy<3.1.0,>=3.0.7\n",
            "  Downloading spacy_legacy-3.0.8-py2.py3-none-any.whl (14 kB)\n",
            "Requirement already satisfied: setuptools in /usr/local/lib/python3.7/dist-packages (from spacy>=3.0.0->textacy) (57.4.0)\n",
            "Requirement already satisfied: cymem<2.1.0,>=2.0.2 in /usr/local/lib/python3.7/dist-packages (from spacy>=3.0.0->textacy) (2.0.5)\n",
            "Requirement already satisfied: wasabi<1.1.0,>=0.8.1 in /usr/local/lib/python3.7/dist-packages (from spacy>=3.0.0->textacy) (0.8.2)\n",
            "Requirement already satisfied: murmurhash<1.1.0,>=0.28.0 in /usr/local/lib/python3.7/dist-packages (from spacy>=3.0.0->textacy) (1.0.5)\n",
            "Requirement already satisfied: zipp>=0.5 in /usr/local/lib/python3.7/dist-packages (from catalogue<2.1.0,>=2.0.4->spacy>=3.0.0->textacy) (3.5.0)\n",
            "Requirement already satisfied: pyparsing>=2.0.2 in /usr/local/lib/python3.7/dist-packages (from packaging>=20.0->spacy>=3.0.0->textacy) (2.4.7)\n",
            "Requirement already satisfied: smart-open<6.0.0,>=5.0.0 in /usr/local/lib/python3.7/dist-packages (from pathy>=0.3.5->spacy>=3.0.0->textacy) (5.1.0)\n",
            "Requirement already satisfied: click<7.2.0,>=7.1.1 in /usr/local/lib/python3.7/dist-packages (from typer<0.4.0,>=0.3.0->spacy>=3.0.0->textacy) (7.1.2)\n",
            "Requirement already satisfied: MarkupSafe>=0.23 in /usr/local/lib/python3.7/dist-packages (from jinja2->spacy>=3.0.0->textacy) (2.0.1)\n",
            "Building wheels for collected packages: jellyfish\n",
            "  Building wheel for jellyfish (setup.py) ... \u001b[?25l\u001b[?25hdone\n",
            "  Created wheel for jellyfish: filename=jellyfish-0.8.8-cp37-cp37m-linux_x86_64.whl size=73202 sha256=dbaa220056aa1a1ffac133ab6bc87cf4af95cd8370a781139ea9fcc1c47006f6\n",
            "  Stored in directory: /root/.cache/pip/wheels/82/aa/f4/716387e1f167cbbf911488aa056138152f4d8699c9c9b43ea8\n",
            "Successfully built jellyfish\n",
            "Installing collected packages: catalogue, typer, srsly, pydantic, thinc, spacy-legacy, pathy, spacy, pyphen, jellyfish, cytoolz, textacy\n",
            "  Attempting uninstall: catalogue\n",
            "    Found existing installation: catalogue 1.0.0\n",
            "    Uninstalling catalogue-1.0.0:\n",
            "      Successfully uninstalled catalogue-1.0.0\n",
            "  Attempting uninstall: srsly\n",
            "    Found existing installation: srsly 1.0.5\n",
            "    Uninstalling srsly-1.0.5:\n",
            "      Successfully uninstalled srsly-1.0.5\n",
            "  Attempting uninstall: thinc\n",
            "    Found existing installation: thinc 7.4.0\n",
            "    Uninstalling thinc-7.4.0:\n",
            "      Successfully uninstalled thinc-7.4.0\n",
            "  Attempting uninstall: spacy\n",
            "    Found existing installation: spacy 2.2.4\n",
            "    Uninstalling spacy-2.2.4:\n",
            "      Successfully uninstalled spacy-2.2.4\n",
            "Successfully installed catalogue-2.0.6 cytoolz-0.11.0 jellyfish-0.8.8 pathy-0.6.0 pydantic-1.8.2 pyphen-0.11.0 spacy-3.1.2 spacy-legacy-3.0.8 srsly-2.4.1 textacy-0.11.0 thinc-8.0.10 typer-0.3.2\n",
            "Collecting en-core-web-lg==3.1.0\n",
            "  Downloading https://github.com/explosion/spacy-models/releases/download/en_core_web_lg-3.1.0/en_core_web_lg-3.1.0-py3-none-any.whl (777.1 MB)\n",
            "\u001b[K     |████████████████████████████████| 777.1 MB 15 kB/s \n",
            "\u001b[?25hRequirement already satisfied: spacy<3.2.0,>=3.1.0 in /usr/local/lib/python3.7/dist-packages (from en-core-web-lg==3.1.0) (3.1.2)\n",
            "Requirement already satisfied: packaging>=20.0 in /usr/local/lib/python3.7/dist-packages (from spacy<3.2.0,>=3.1.0->en-core-web-lg==3.1.0) (21.0)\n",
            "Requirement already satisfied: catalogue<2.1.0,>=2.0.4 in /usr/local/lib/python3.7/dist-packages (from spacy<3.2.0,>=3.1.0->en-core-web-lg==3.1.0) (2.0.6)\n",
            "Requirement already satisfied: preshed<3.1.0,>=3.0.2 in /usr/local/lib/python3.7/dist-packages (from spacy<3.2.0,>=3.1.0->en-core-web-lg==3.1.0) (3.0.5)\n",
            "Requirement already satisfied: numpy>=1.15.0 in /usr/local/lib/python3.7/dist-packages (from spacy<3.2.0,>=3.1.0->en-core-web-lg==3.1.0) (1.19.5)\n",
            "Requirement already satisfied: pathy>=0.3.5 in /usr/local/lib/python3.7/dist-packages (from spacy<3.2.0,>=3.1.0->en-core-web-lg==3.1.0) (0.6.0)\n",
            "Requirement already satisfied: tqdm<5.0.0,>=4.38.0 in /usr/local/lib/python3.7/dist-packages (from spacy<3.2.0,>=3.1.0->en-core-web-lg==3.1.0) (4.62.0)\n",
            "Requirement already satisfied: thinc<8.1.0,>=8.0.8 in /usr/local/lib/python3.7/dist-packages (from spacy<3.2.0,>=3.1.0->en-core-web-lg==3.1.0) (8.0.10)\n",
            "Requirement already satisfied: typer<0.4.0,>=0.3.0 in /usr/local/lib/python3.7/dist-packages (from spacy<3.2.0,>=3.1.0->en-core-web-lg==3.1.0) (0.3.2)\n",
            "Requirement already satisfied: setuptools in /usr/local/lib/python3.7/dist-packages (from spacy<3.2.0,>=3.1.0->en-core-web-lg==3.1.0) (57.4.0)\n",
            "Requirement already satisfied: typing-extensions<4.0.0.0,>=3.7.4 in /usr/local/lib/python3.7/dist-packages (from spacy<3.2.0,>=3.1.0->en-core-web-lg==3.1.0) (3.7.4.3)\n",
            "Requirement already satisfied: cymem<2.1.0,>=2.0.2 in /usr/local/lib/python3.7/dist-packages (from spacy<3.2.0,>=3.1.0->en-core-web-lg==3.1.0) (2.0.5)\n",
            "Requirement already satisfied: wasabi<1.1.0,>=0.8.1 in /usr/local/lib/python3.7/dist-packages (from spacy<3.2.0,>=3.1.0->en-core-web-lg==3.1.0) (0.8.2)\n",
            "Requirement already satisfied: blis<0.8.0,>=0.4.0 in /usr/local/lib/python3.7/dist-packages (from spacy<3.2.0,>=3.1.0->en-core-web-lg==3.1.0) (0.4.1)\n",
            "Requirement already satisfied: murmurhash<1.1.0,>=0.28.0 in /usr/local/lib/python3.7/dist-packages (from spacy<3.2.0,>=3.1.0->en-core-web-lg==3.1.0) (1.0.5)\n",
            "Requirement already satisfied: pydantic!=1.8,!=1.8.1,<1.9.0,>=1.7.4 in /usr/local/lib/python3.7/dist-packages (from spacy<3.2.0,>=3.1.0->en-core-web-lg==3.1.0) (1.8.2)\n",
            "Requirement already satisfied: requests<3.0.0,>=2.13.0 in /usr/local/lib/python3.7/dist-packages (from spacy<3.2.0,>=3.1.0->en-core-web-lg==3.1.0) (2.23.0)\n",
            "Requirement already satisfied: jinja2 in /usr/local/lib/python3.7/dist-packages (from spacy<3.2.0,>=3.1.0->en-core-web-lg==3.1.0) (2.11.3)\n",
            "Requirement already satisfied: srsly<3.0.0,>=2.4.1 in /usr/local/lib/python3.7/dist-packages (from spacy<3.2.0,>=3.1.0->en-core-web-lg==3.1.0) (2.4.1)\n",
            "Requirement already satisfied: spacy-legacy<3.1.0,>=3.0.7 in /usr/local/lib/python3.7/dist-packages (from spacy<3.2.0,>=3.1.0->en-core-web-lg==3.1.0) (3.0.8)\n",
            "Requirement already satisfied: zipp>=0.5 in /usr/local/lib/python3.7/dist-packages (from catalogue<2.1.0,>=2.0.4->spacy<3.2.0,>=3.1.0->en-core-web-lg==3.1.0) (3.5.0)\n",
            "Requirement already satisfied: pyparsing>=2.0.2 in /usr/local/lib/python3.7/dist-packages (from packaging>=20.0->spacy<3.2.0,>=3.1.0->en-core-web-lg==3.1.0) (2.4.7)\n",
            "Requirement already satisfied: smart-open<6.0.0,>=5.0.0 in /usr/local/lib/python3.7/dist-packages (from pathy>=0.3.5->spacy<3.2.0,>=3.1.0->en-core-web-lg==3.1.0) (5.1.0)\n",
            "Requirement already satisfied: urllib3!=1.25.0,!=1.25.1,<1.26,>=1.21.1 in /usr/local/lib/python3.7/dist-packages (from requests<3.0.0,>=2.13.0->spacy<3.2.0,>=3.1.0->en-core-web-lg==3.1.0) (1.24.3)\n",
            "Requirement already satisfied: idna<3,>=2.5 in /usr/local/lib/python3.7/dist-packages (from requests<3.0.0,>=2.13.0->spacy<3.2.0,>=3.1.0->en-core-web-lg==3.1.0) (2.10)\n",
            "Requirement already satisfied: chardet<4,>=3.0.2 in /usr/local/lib/python3.7/dist-packages (from requests<3.0.0,>=2.13.0->spacy<3.2.0,>=3.1.0->en-core-web-lg==3.1.0) (3.0.4)\n",
            "Requirement already satisfied: certifi>=2017.4.17 in /usr/local/lib/python3.7/dist-packages (from requests<3.0.0,>=2.13.0->spacy<3.2.0,>=3.1.0->en-core-web-lg==3.1.0) (2021.5.30)\n",
            "Requirement already satisfied: click<7.2.0,>=7.1.1 in /usr/local/lib/python3.7/dist-packages (from typer<0.4.0,>=0.3.0->spacy<3.2.0,>=3.1.0->en-core-web-lg==3.1.0) (7.1.2)\n",
            "Requirement already satisfied: MarkupSafe>=0.23 in /usr/local/lib/python3.7/dist-packages (from jinja2->spacy<3.2.0,>=3.1.0->en-core-web-lg==3.1.0) (2.0.1)\n",
            "Installing collected packages: en-core-web-lg\n",
            "Successfully installed en-core-web-lg-3.1.0\n",
            "\u001b[38;5;2m✔ Download and installation successful\u001b[0m\n",
            "You can now load the package via spacy.load('en_core_web_lg')\n"
          ]
        }
      ]
    },
    {
      "cell_type": "markdown",
      "metadata": {
        "id": "sfEp82k84dcp"
      },
      "source": [
        "### Define words of Displacement"
      ]
    },
    {
      "cell_type": "code",
      "metadata": {
        "id": "4dijU-Xo3WpV"
      },
      "source": [
        "dic = {\n",
        " 'person_term_lemmas': ['displace',\n",
        "  'evacuate',\n",
        "  'force',\n",
        "  'flee',\n",
        "  'homeless',\n",
        "  'relief',\n",
        "  'camp',\n",
        "  'shelter',\n",
        "  'relocate',\n",
        "  'strand',\n",
        "  'stuck',\n",
        "  'accommodate',\n",
        "  'refugee',\n",
        "  'camp',\n",
        "  'refugee',\n",
        "  'center',\n",
        "  'cross',\n",
        "  'arrive',\n",
        "  'enter',\n",
        "  'evict',\n",
        "  'eviction',\n",
        "  'sack',\n",
        "  'rescue',\n",
        "  'loot',\n",
        "  'attack',\n",
        "  'attack',\n",
        "  'flee',\n",
        "  'victim'],\n",
        " 'structure_term_lemmas': ['destroy',\n",
        "  'damage',\n",
        "  'swept',\n",
        "  'collapse',\n",
        "  'flood',\n",
        "  'wash',\n",
        "  'inundate',\n",
        "  'evacuate'],\n",
        " 'joint_term_lemmas': ['evacuate'],\n",
        " 'person_unit_lemmas': ['family',\n",
        "  'person',\n",
        "  'people',\n",
        "  'individual',\n",
        "  'local',\n",
        "  'villager',\n",
        "  'resident',\n",
        "  'occupant',\n",
        "  'citizen',\n",
        "  'household',\n",
        "  'refugee',\n",
        "  'asylum',\n",
        "  'seeker'],\n",
        " 'structure_unit_lemmas': ['home', 'house', 'hut', 'dwell', 'building'],\n",
        " 'household_lemmas': ['family', 'household'],\n",
        " 'reporting_term_lemmas': ['displace',\n",
        "  'evacuate',\n",
        "  'force',\n",
        "  'flee',\n",
        "  'homeless',\n",
        "  'relief',\n",
        "  'camp',\n",
        "  'shelter',\n",
        "  'relocate',\n",
        "  'strand',\n",
        "  'stuck',\n",
        "  'accommodate',\n",
        "  'refugee',\n",
        "  'camp',\n",
        "  'refugee',\n",
        "  'center',\n",
        "  'cross',\n",
        "  'arrive',\n",
        "  'enter',\n",
        "  'evict',\n",
        "  'eviction',\n",
        "  'sack',\n",
        "  'rescue',\n",
        "  'loot',\n",
        "  'attack',\n",
        "  'attack',\n",
        "  'flee',\n",
        "  'victim',\n",
        "  'destroy',\n",
        "  'damage',\n",
        "  'swept',\n",
        "  'collapse',\n",
        "  'flood',\n",
        "  'wash',\n",
        "  'inundate',\n",
        "  'evacuate'],\n",
        " 'reporting_unit_lemmas': ['family',\n",
        "  'person',\n",
        "  'people',\n",
        "  'individual',\n",
        "  'local',\n",
        "  'villager',\n",
        "  'resident',\n",
        "  'occupant',\n",
        "  'citizen',\n",
        "  'household',\n",
        "  'refugee',\n",
        "  'asylum',\n",
        "  'seeker',\n",
        "  'home',\n",
        "  'house',\n",
        "  'hut',\n",
        "  'dwell',\n",
        "  'building'],\n",
        " 'relevant_article_lemmas': ['rainstorm',\n",
        "  'hurricane',\n",
        "  'tornado',\n",
        "  'rain',\n",
        "  'storm',\n",
        "  'earthquake',\n",
        "  'drought',\n",
        "  'wildfire',\n",
        "  'desertification',\n",
        "  'riverbank',\n",
        "  'erosion',\n",
        "  'salinization',\n",
        "  'sea',\n",
        "  'level',\n",
        "  'rise',\n",
        "  'heat',\n",
        "  'wave',\n",
        "  'cold',\n",
        "  'wave',\n",
        "  'storm',\n",
        "  'hailstorm',\n",
        "  'winter',\n",
        "  'storm',\n",
        "  'storm',\n",
        "  'surge',\n",
        "  'sand',\n",
        "  'storm',\n",
        "  'dust',\n",
        "  'storm',\n",
        "  'dry',\n",
        "  'mass',\n",
        "  'movement',\n",
        "  'sinkhole',\n",
        "  'earthquake',\n",
        "  'tsunami',\n",
        "  'volcanic',\n",
        "  'activity',\n",
        "  'flood',\n",
        "  'dam',\n",
        "  'release',\n",
        "  'flood',\n",
        "  'landslide',\n",
        "  'wet',\n",
        "  'mass',\n",
        "  'movement',\n",
        "  'avalanche',\n",
        "  'rogue',\n",
        "  'wave',\n",
        "  'coastal',\n",
        "  'erosion',\n",
        "  'debacle',\n",
        "  'violence',\n",
        "  'violence',\n",
        "  'against',\n",
        "  'civilian',\n",
        "  'clash',\n",
        "  'battle',\n",
        "  'explosion',\n",
        "  'riot',\n",
        "  'security',\n",
        "  'operation',\n",
        "  'loot',\n",
        "  'vandalism',\n",
        "  'raid',\n",
        "  'demolition',\n",
        "  'burning',\n",
        "  'of',\n",
        "  'home',\n",
        "  'torch',\n",
        "  'of',\n",
        "  'home',\n",
        "  'house',\n",
        "  'destruction',\n",
        "  'intimidation',\n",
        "  'threat',\n",
        "  'of',\n",
        "  'attack',\n",
        "  'lynching',\n",
        "  'mob',\n",
        "  'violence',\n",
        "  'knife',\n",
        "  'machete',\n",
        "  'shoot',\n",
        "  'shell',\n",
        "  'chemical',\n",
        "  'weapon',\n",
        "  'biological',\n",
        "  'weapon',\n",
        "  'military',\n",
        "  'occupation',\n",
        "  'inter',\n",
        "  '-',\n",
        "  'communal',\n",
        "  'violence',\n",
        "  'political',\n",
        "  'violence',\n",
        "  'electoral',\n",
        "  'violence',\n",
        "  'criminal',\n",
        "  'violence',\n",
        "  'agricultural',\n",
        "  'conflict',\n",
        "  'pastoralist',\n",
        "  'conflict',\n",
        "  'religious',\n",
        "  'violence',\n",
        "  'ethnic',\n",
        "  'violence',\n",
        "  'communal',\n",
        "  'conflict',\n",
        "  'intimidation',\n",
        "  'banditry',\n",
        "  'cattle',\n",
        "  'rustle',\n",
        "  'cartel',\n",
        "  'organize',\n",
        "  'crime',\n",
        "  'military',\n",
        "  'mara',\n",
        "  'government',\n",
        "  'rebel',\n",
        "  'group',\n",
        "  'gang',\n",
        "  'extortion',\n",
        "  'damnify']}"
      ],
      "execution_count": 8,
      "outputs": []
    },
    {
      "cell_type": "code",
      "metadata": {
        "colab": {
          "base_uri": "https://localhost:8080/",
          "height": 122
        },
        "id": "ayyjpUcF7Mz6",
        "outputId": "b03a8bd6-148c-4027-ebdb-2cc5cee410b3"
      },
      "source": [
        "test"
      ],
      "execution_count": 15,
      "outputs": [
        {
          "output_type": "execute_result",
          "data": {
            "application/vnd.google.colaboratory.intrinsic+json": {
              "type": "string"
            },
            "text/plain": [
              "'SITUATION\\n\\n• More than 13 million people in the DRC—representing approximately 23 percent of the country’s population—are estimated to be facing Crisis (IPC 3) or Emergency (IPC 4) levels of acute food insecurity, according to the Integrated Food Security Phase Classification (IPC). In addition, an estimated five million children in the DRC are acutely malnourished, the UN World Food Program (WFP) reports.\\n\\n• Communities in eastern DRC and the greater Kasaï region are projected to face IPC 3 and IPC 4 levels of acute food insecurity through at least September 2019, the Famine Early Warning Systems Network (FEWS NET) reports.\\n\\n• Refugees and Congolese returnees from elsewhere in the region, including more than 172,000 refugees from the Central African Republic (CAR) and nearly 500,000 Congolese nationals expelled from Angola, also remain in need of emergency food assistance.\\n\\n• Inter-communal conflict in Ituri—a province affected by the ongoing EVD outbreak—displaced more than 300,000 people between early and mid-June, increasing humanitarian needs in the region, according to the Office of the UN High Commissioner for Refugees (UNHCR).\\n\\nRESPONSE\\n\\n• USAID’s Office of Food for Peace (FFP) partners with WFP to provide emergency food assistance to internally displaced persons (IDPs), refugees, returnees, and vulnerable host communities in the DRC. With FFP support, WFP is also providing food assistance to EVDaffected communities. In addition, FFP partners with the UN Children’s Fund (UNICEF) and WFP to provide emergency nutritional support to children in eastern and central DRC.\\n\\n• FFP collaborates with USAID’s Office of U.S. Foreign Disaster Assistance to jointly support several non-governmental organizations (NGOs) to provide multi-sectoral humanitarian assistance to vulnerable people in eastern DRC.\\n\\n• Separately, FFP supports NGOs in the greater Kasaï region to provide life-saving food assistance to conflict-affected IDPs, returnees, and host communities. Additionally, FFP works with ACTED to provide emergency food assistance to refugees from CAR sheltering in northwestern DRC.\\n\\n• FFP also partners with Catholic Relief Services, Food for the Hungry, and Mercy Corps to implement multi-year food assistance and resilience activities that benefit vulnerable communities in KasaïOriental, South Kivu, and Tanganyika provinces.'"
            ]
          },
          "metadata": {},
          "execution_count": 15
        }
      ]
    },
    {
      "cell_type": "markdown",
      "metadata": {
        "id": "o9Q38O8O4_Pl"
      },
      "source": [
        "### Get Location Information"
      ]
    },
    {
      "cell_type": "code",
      "metadata": {
        "colab": {
          "base_uri": "https://localhost:8080/"
        },
        "id": "xtWVwzOj4b5M",
        "outputId": "ab0615c4-1a04-4f1c-8bb9-e11a4a90184a"
      },
      "source": [
        "Information_extraction(test, dic).get_location_span()\n"
      ],
      "execution_count": 9,
      "outputs": [
        {
          "output_type": "execute_result",
          "data": {
            "text/plain": [
              "[('DRC', {'end': 51, 'start': 48, 'type': 'loc'}),\n",
              " ('DRC', {'end': 342, 'start': 339, 'type': 'loc'}),\n",
              " ('DRC', {'end': 439, 'start': 436, 'type': 'loc'}),\n",
              " ('Angola', {'end': 835, 'start': 829, 'type': 'loc'}),\n",
              " ('Ituri', {'end': 922, 'start': 917, 'type': 'loc'}),\n",
              " ('DRC', {'end': 1363, 'start': 1360, 'type': 'loc'}),\n",
              " ('DRC', {'end': 1599, 'start': 1596, 'type': 'loc'}),\n",
              " ('DRC', {'end': 1827, 'start': 1824, 'type': 'loc'}),\n",
              " ('DRC', {'end': 2112, 'start': 2109, 'type': 'loc'}),\n",
              " ('KasaïOriental', {'end': 2321, 'start': 2308, 'type': 'loc'}),\n",
              " ('South Kivu', {'end': 2333, 'start': 2323, 'type': 'loc'})]"
            ]
          },
          "metadata": {},
          "execution_count": 9
        }
      ]
    },
    {
      "cell_type": "markdown",
      "metadata": {
        "id": "yToF4Rwp5BoB"
      },
      "source": [
        "### Get Date Information"
      ]
    },
    {
      "cell_type": "code",
      "metadata": {
        "colab": {
          "base_uri": "https://localhost:8080/"
        },
        "id": "kQ8gUU4t4mQ5",
        "outputId": "77c7b3a0-c2e1-4f38-c20b-62bd9b7bf5a4"
      },
      "source": [
        "Information_extraction(test, dic).get_date_span()\n"
      ],
      "execution_count": 10,
      "outputs": [
        {
          "output_type": "execute_result",
          "data": {
            "text/plain": [
              "[('at least September 2019', {'end': 570, 'start': 547, 'type': 'date'}),\n",
              " ('mid-June', {'end': 1032, 'start': 1024, 'type': 'date'}),\n",
              " ('multi-year', {'end': 2226, 'start': 2216, 'type': 'date'})]"
            ]
          },
          "metadata": {},
          "execution_count": 10
        }
      ]
    },
    {
      "cell_type": "markdown",
      "metadata": {
        "id": "OHa66b375EHo"
      },
      "source": [
        "### Get Quantity Information"
      ]
    },
    {
      "cell_type": "code",
      "metadata": {
        "colab": {
          "base_uri": "https://localhost:8080/"
        },
        "id": "_r4kGp8U4tsA",
        "outputId": "8eb4380a-6c3d-4446-e0b1-631ec7638de7"
      },
      "source": [
        "Information_extraction(test, dic).get_quantity_span('refugee')"
      ],
      "execution_count": 13,
      "outputs": [
        {
          "output_type": "execute_result",
          "data": {
            "text/plain": [
              "[('172,000', {'end': 726, 'start': 719, 'type': 'quantity'})]"
            ]
          },
          "metadata": {},
          "execution_count": 13
        }
      ]
    }
  ]
}