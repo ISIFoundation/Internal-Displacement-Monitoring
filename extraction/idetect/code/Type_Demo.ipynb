{
  "nbformat": 4,
  "nbformat_minor": 0,
  "metadata": {
    "colab": {
      "name": "Type_Demo.ipynb",
      "provenance": []
    },
    "kernelspec": {
      "name": "python3",
      "display_name": "Python 3"
    },
    "language_info": {
      "name": "python"
    }
  },
  "cells": [
    {
      "cell_type": "code",
      "metadata": {
        "colab": {
          "base_uri": "https://localhost:8080/"
        },
        "id": "jClE_VtMX1TU",
        "outputId": "9dd1ee2c-fabd-423f-d099-fa50277c3f77"
      },
      "source": [
        "from sklearn.linear_model import LogisticRegression\n",
        "import pandas as pd\n",
        "from collections import Counter\n",
        "from google.colab import drive\n",
        "\n",
        "drive.mount('/content/drive')\n",
        "import os\n",
        "my_path = '/content/drive/MyDrive/NLP_research/idetect-master/source/python/'\n",
        "os.chdir(my_path)\n",
        "from idetect.Type_model import Type_Classification\n",
        "\n",
        "\n",
        "### Read the Data\n",
        "complete_fr_200 = pd.read_csv('/content/drive/My Drive/NLP_research/DATA/complete_fr_200_ok.csv')\n",
        "assets_fr = pd.read_csv('/content/drive/My Drive/NLP_research/DATA/assets_fr.csv')\n",
        "relevance_fr_200 = pd.read_csv('/content/drive/My Drive/NLP_research/DATA/relevance_fr_200.csv')\n",
        "\n",
        "assets_es = pd.read_csv('/content/drive/My Drive/NLP_research/DATA/assets_es.csv')\n",
        "relevance_es_200 = pd.read_csv('/content/drive/My Drive/NLP_research/DATA/relevance_es_200.csv')\n",
        "\n",
        "relevance_en = pd.read_csv('/content/drive/My Drive/NLP_research/DATA/cleaned_relevant_data.csv')\n",
        "\n",
        "fr_type_data = relevance_fr_200.merge(assets_fr, how = 'inner', on = 'assetID')\n",
        "relevance_es_data = relevance_es_200.merge(assets_es, how = 'inner', on = 'assetID')\n",
        "\n",
        "test = fr_type_data.content[0]\n",
        "Type_Classification(fr_type_data, LogisticRegression(penalty='l2', C=0.1, class_weight='balanced', solver='liblinear'), 'french').predict_proba(test)\n"
      ],
      "execution_count": 5,
      "outputs": [
        {
          "output_type": "stream",
          "name": "stdout",
          "text": [
            "Drive already mounted at /content/drive; to attempt to forcibly remount, call drive.mount(\"/content/drive\", force_remount=True).\n"
          ]
        },
        {
          "output_type": "execute_result",
          "data": {
            "text/plain": [
              "array([0.50976341, 0.49023659])"
            ]
          },
          "metadata": {},
          "execution_count": 5
        }
      ]
    }
  ]
}